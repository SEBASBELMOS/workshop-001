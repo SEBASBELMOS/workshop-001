{
 "cells": [
  {
   "cell_type": "markdown",
   "metadata": {},
   "source": [
    "## **WORKSHOP 001 - NOTEBOOK #1: Raw Data**\n",
    "\n",
    "This notebook will primarily cover loading raw data into a PostgreSQL database. To achieve this, we will import the **connection.py** module, which handles reading environment variables and includes a function that creates the connection engine using **SQLAlchemy**. With this function, we will have the connection engine set up, enabling us to transfer data using the **Pandas** function **pd.DataFrame.to_sql()**.\n",
    "\n",
    "---"
   ]
  },
  {
   "cell_type": "markdown",
   "metadata": {},
   "source": [
    "### **Setting Environment**"
   ]
  },
  {
   "cell_type": "code",
   "execution_count": 8,
   "metadata": {},
   "outputs": [
    {
     "name": "stdout",
     "output_type": "stream",
     "text": [
      "d:\\U\\FIFTH SEMESTER\\ETL\\workshop-001\n",
      "d:\\U\\FIFTH SEMESTER\\ETL\\workshop-001\n"
     ]
    }
   ],
   "source": [
    "import os \n",
    "print(os.getcwd())\n",
    "\n",
    "try:\n",
    "    os.chdir(\"../workshop-001\")\n",
    "\n",
    "except FileNotFoundError:\n",
    "    print(\"\"\"\n",
    "        FileNotFoundError - The directory may not exist or you might not be in the specified path.\n",
    "        If this has already worked, do not run this block again, as the current directory is already set to workshop-001.\n",
    "        \"\"\")\n",
    "    \n",
    "print(os.getcwd())"
   ]
  },
  {
   "cell_type": "markdown",
   "metadata": {},
   "source": [
    "### **Importing modules and libraries**"
   ]
  },
  {
   "cell_type": "code",
   "execution_count": 9,
   "metadata": {},
   "outputs": [],
   "source": [
    "import pandas as pd\n",
    "from functions.db_connection.connection import creating_engine\n",
    "from sqlalchemy import text"
   ]
  },
  {
   "cell_type": "markdown",
   "metadata": {},
   "source": [
    "### **Ingesting Data (_candidates.csv_)**"
   ]
  },
  {
   "cell_type": "code",
   "execution_count": 13,
   "metadata": {},
   "outputs": [],
   "source": [
    "df = pd.read_csv('./data/candidates.csv', delimiter=';')"
   ]
  },
  {
   "cell_type": "code",
   "execution_count": 14,
   "metadata": {},
   "outputs": [
    {
     "data": {
      "text/html": [
       "<div>\n",
       "<style scoped>\n",
       "    .dataframe tbody tr th:only-of-type {\n",
       "        vertical-align: middle;\n",
       "    }\n",
       "\n",
       "    .dataframe tbody tr th {\n",
       "        vertical-align: top;\n",
       "    }\n",
       "\n",
       "    .dataframe thead th {\n",
       "        text-align: right;\n",
       "    }\n",
       "</style>\n",
       "<table border=\"1\" class=\"dataframe\">\n",
       "  <thead>\n",
       "    <tr style=\"text-align: right;\">\n",
       "      <th></th>\n",
       "      <th>First Name</th>\n",
       "      <th>Last Name</th>\n",
       "      <th>Email</th>\n",
       "      <th>Application Date</th>\n",
       "      <th>Country</th>\n",
       "      <th>YOE</th>\n",
       "      <th>Seniority</th>\n",
       "      <th>Technology</th>\n",
       "      <th>Code Challenge Score</th>\n",
       "      <th>Technical Interview Score</th>\n",
       "    </tr>\n",
       "  </thead>\n",
       "  <tbody>\n",
       "    <tr>\n",
       "      <th>0</th>\n",
       "      <td>Bernadette</td>\n",
       "      <td>Langworth</td>\n",
       "      <td>leonard91@yahoo.com</td>\n",
       "      <td>2021-02-26</td>\n",
       "      <td>Norway</td>\n",
       "      <td>2</td>\n",
       "      <td>Intern</td>\n",
       "      <td>Data Engineer</td>\n",
       "      <td>3</td>\n",
       "      <td>3</td>\n",
       "    </tr>\n",
       "    <tr>\n",
       "      <th>1</th>\n",
       "      <td>Camryn</td>\n",
       "      <td>Reynolds</td>\n",
       "      <td>zelda56@hotmail.com</td>\n",
       "      <td>2021-09-09</td>\n",
       "      <td>Panama</td>\n",
       "      <td>10</td>\n",
       "      <td>Intern</td>\n",
       "      <td>Data Engineer</td>\n",
       "      <td>2</td>\n",
       "      <td>10</td>\n",
       "    </tr>\n",
       "    <tr>\n",
       "      <th>2</th>\n",
       "      <td>Larue</td>\n",
       "      <td>Spinka</td>\n",
       "      <td>okey_schultz41@gmail.com</td>\n",
       "      <td>2020-04-14</td>\n",
       "      <td>Belarus</td>\n",
       "      <td>4</td>\n",
       "      <td>Mid-Level</td>\n",
       "      <td>Client Success</td>\n",
       "      <td>10</td>\n",
       "      <td>9</td>\n",
       "    </tr>\n",
       "    <tr>\n",
       "      <th>3</th>\n",
       "      <td>Arch</td>\n",
       "      <td>Spinka</td>\n",
       "      <td>elvera_kulas@yahoo.com</td>\n",
       "      <td>2020-10-01</td>\n",
       "      <td>Eritrea</td>\n",
       "      <td>25</td>\n",
       "      <td>Trainee</td>\n",
       "      <td>QA Manual</td>\n",
       "      <td>7</td>\n",
       "      <td>1</td>\n",
       "    </tr>\n",
       "    <tr>\n",
       "      <th>4</th>\n",
       "      <td>Larue</td>\n",
       "      <td>Altenwerth</td>\n",
       "      <td>minnie.gislason@gmail.com</td>\n",
       "      <td>2020-05-20</td>\n",
       "      <td>Myanmar</td>\n",
       "      <td>13</td>\n",
       "      <td>Mid-Level</td>\n",
       "      <td>Social Media Community Management</td>\n",
       "      <td>9</td>\n",
       "      <td>7</td>\n",
       "    </tr>\n",
       "    <tr>\n",
       "      <th>...</th>\n",
       "      <td>...</td>\n",
       "      <td>...</td>\n",
       "      <td>...</td>\n",
       "      <td>...</td>\n",
       "      <td>...</td>\n",
       "      <td>...</td>\n",
       "      <td>...</td>\n",
       "      <td>...</td>\n",
       "      <td>...</td>\n",
       "      <td>...</td>\n",
       "    </tr>\n",
       "    <tr>\n",
       "      <th>49995</th>\n",
       "      <td>Bethany</td>\n",
       "      <td>Shields</td>\n",
       "      <td>rocky_mitchell@hotmail.com</td>\n",
       "      <td>2022-01-09</td>\n",
       "      <td>Dominican Republic</td>\n",
       "      <td>27</td>\n",
       "      <td>Trainee</td>\n",
       "      <td>Security</td>\n",
       "      <td>2</td>\n",
       "      <td>1</td>\n",
       "    </tr>\n",
       "    <tr>\n",
       "      <th>49996</th>\n",
       "      <td>Era</td>\n",
       "      <td>Swaniawski</td>\n",
       "      <td>dolores.roob@hotmail.com</td>\n",
       "      <td>2020-06-02</td>\n",
       "      <td>Morocco</td>\n",
       "      <td>21</td>\n",
       "      <td>Lead</td>\n",
       "      <td>Game Development</td>\n",
       "      <td>1</td>\n",
       "      <td>2</td>\n",
       "    </tr>\n",
       "    <tr>\n",
       "      <th>49997</th>\n",
       "      <td>Martin</td>\n",
       "      <td>Lakin</td>\n",
       "      <td>savanah.stracke@gmail.com</td>\n",
       "      <td>2018-12-15</td>\n",
       "      <td>Uganda</td>\n",
       "      <td>20</td>\n",
       "      <td>Trainee</td>\n",
       "      <td>System Administration</td>\n",
       "      <td>6</td>\n",
       "      <td>1</td>\n",
       "    </tr>\n",
       "    <tr>\n",
       "      <th>49998</th>\n",
       "      <td>Aliya</td>\n",
       "      <td>Abernathy</td>\n",
       "      <td>vivienne.fritsch@yahoo.com</td>\n",
       "      <td>2020-05-30</td>\n",
       "      <td>Czech Republic</td>\n",
       "      <td>20</td>\n",
       "      <td>Senior</td>\n",
       "      <td>Database Administration</td>\n",
       "      <td>0</td>\n",
       "      <td>0</td>\n",
       "    </tr>\n",
       "    <tr>\n",
       "      <th>49999</th>\n",
       "      <td>Coleman</td>\n",
       "      <td>Wisozk</td>\n",
       "      <td>abigayle.crooks@yahoo.com</td>\n",
       "      <td>2022-06-13</td>\n",
       "      <td>Palau</td>\n",
       "      <td>15</td>\n",
       "      <td>Intern</td>\n",
       "      <td>Mulesoft</td>\n",
       "      <td>3</td>\n",
       "      <td>1</td>\n",
       "    </tr>\n",
       "  </tbody>\n",
       "</table>\n",
       "<p>50000 rows × 10 columns</p>\n",
       "</div>"
      ],
      "text/plain": [
       "       First Name   Last Name                       Email Application Date  \\\n",
       "0      Bernadette   Langworth         leonard91@yahoo.com       2021-02-26   \n",
       "1          Camryn    Reynolds         zelda56@hotmail.com       2021-09-09   \n",
       "2           Larue      Spinka    okey_schultz41@gmail.com       2020-04-14   \n",
       "3            Arch      Spinka      elvera_kulas@yahoo.com       2020-10-01   \n",
       "4           Larue  Altenwerth   minnie.gislason@gmail.com       2020-05-20   \n",
       "...           ...         ...                         ...              ...   \n",
       "49995     Bethany     Shields  rocky_mitchell@hotmail.com       2022-01-09   \n",
       "49996         Era  Swaniawski    dolores.roob@hotmail.com       2020-06-02   \n",
       "49997      Martin       Lakin   savanah.stracke@gmail.com       2018-12-15   \n",
       "49998       Aliya   Abernathy  vivienne.fritsch@yahoo.com       2020-05-30   \n",
       "49999     Coleman      Wisozk   abigayle.crooks@yahoo.com       2022-06-13   \n",
       "\n",
       "                  Country  YOE  Seniority                         Technology  \\\n",
       "0                  Norway    2     Intern                      Data Engineer   \n",
       "1                  Panama   10     Intern                      Data Engineer   \n",
       "2                 Belarus    4  Mid-Level                     Client Success   \n",
       "3                 Eritrea   25    Trainee                          QA Manual   \n",
       "4                 Myanmar   13  Mid-Level  Social Media Community Management   \n",
       "...                   ...  ...        ...                                ...   \n",
       "49995  Dominican Republic   27    Trainee                           Security   \n",
       "49996             Morocco   21       Lead                   Game Development   \n",
       "49997              Uganda   20    Trainee              System Administration   \n",
       "49998      Czech Republic   20     Senior            Database Administration   \n",
       "49999               Palau   15     Intern                           Mulesoft   \n",
       "\n",
       "       Code Challenge Score  Technical Interview Score  \n",
       "0                         3                          3  \n",
       "1                         2                         10  \n",
       "2                        10                          9  \n",
       "3                         7                          1  \n",
       "4                         9                          7  \n",
       "...                     ...                        ...  \n",
       "49995                     2                          1  \n",
       "49996                     1                          2  \n",
       "49997                     6                          1  \n",
       "49998                     0                          0  \n",
       "49999                     3                          1  \n",
       "\n",
       "[50000 rows x 10 columns]"
      ]
     },
     "execution_count": 14,
     "metadata": {},
     "output_type": "execute_result"
    }
   ],
   "source": [
    "df"
   ]
  },
  {
   "cell_type": "markdown",
   "metadata": {},
   "source": [
    "### **Transfer data to DB in PostgreSQL**"
   ]
  },
  {
   "cell_type": "code",
   "execution_count": 16,
   "metadata": {},
   "outputs": [
    {
     "ename": "ValueError",
     "evalue": "invalid literal for int() with base 10: '# PostgreSQL port, e.g. 5432'",
     "output_type": "error",
     "traceback": [
      "\u001b[1;31m---------------------------------------------------------------------------\u001b[0m",
      "\u001b[1;31mValueError\u001b[0m                                Traceback (most recent call last)",
      "Cell \u001b[1;32mIn[16], line 1\u001b[0m\n\u001b[1;32m----> 1\u001b[0m engine \u001b[38;5;241m=\u001b[39m \u001b[43mcreating_engine\u001b[49m\u001b[43m(\u001b[49m\u001b[43m)\u001b[49m\n",
      "File \u001b[1;32md:\\U\\FIFTH SEMESTER\\ETL\\workshop-001\\functions\\db_connection\\connection.py:23\u001b[0m, in \u001b[0;36mcreating_engine\u001b[1;34m()\u001b[0m\n\u001b[0;32m     21\u001b[0m \u001b[38;5;28;01mdef\u001b[39;00m\u001b[38;5;250m \u001b[39m\u001b[38;5;21mcreating_engine\u001b[39m():\n\u001b[0;32m     22\u001b[0m     url \u001b[38;5;241m=\u001b[39m \u001b[38;5;124mf\u001b[39m\u001b[38;5;124m\"\u001b[39m\u001b[38;5;132;01m{\u001b[39;00mdriver\u001b[38;5;132;01m}\u001b[39;00m\u001b[38;5;124m://\u001b[39m\u001b[38;5;132;01m{\u001b[39;00muser\u001b[38;5;132;01m}\u001b[39;00m\u001b[38;5;124m:\u001b[39m\u001b[38;5;132;01m{\u001b[39;00mpassword\u001b[38;5;132;01m}\u001b[39;00m\u001b[38;5;124m@\u001b[39m\u001b[38;5;132;01m{\u001b[39;00mhost\u001b[38;5;132;01m}\u001b[39;00m\u001b[38;5;124m:\u001b[39m\u001b[38;5;132;01m{\u001b[39;00mport\u001b[38;5;132;01m}\u001b[39;00m\u001b[38;5;124m/\u001b[39m\u001b[38;5;132;01m{\u001b[39;00mdatabase\u001b[38;5;132;01m}\u001b[39;00m\u001b[38;5;124m\"\u001b[39m\n\u001b[1;32m---> 23\u001b[0m     engine \u001b[38;5;241m=\u001b[39m \u001b[43mcreate_engine\u001b[49m\u001b[43m(\u001b[49m\u001b[43murl\u001b[49m\u001b[43m)\u001b[49m\n\u001b[0;32m     25\u001b[0m     \u001b[38;5;28;01mreturn\u001b[39;00m engine\n",
      "File \u001b[1;32m<string>:2\u001b[0m, in \u001b[0;36mcreate_engine\u001b[1;34m(url, **kwargs)\u001b[0m\n",
      "File \u001b[1;32md:\\U\\FIFTH SEMESTER\\ETL\\workshop-001\\venv\\Lib\\site-packages\\sqlalchemy\\util\\deprecations.py:281\u001b[0m, in \u001b[0;36mdeprecated_params.<locals>.decorate.<locals>.warned\u001b[1;34m(fn, *args, **kwargs)\u001b[0m\n\u001b[0;32m    274\u001b[0m     \u001b[38;5;28;01mif\u001b[39;00m m \u001b[38;5;129;01min\u001b[39;00m kwargs:\n\u001b[0;32m    275\u001b[0m         _warn_with_version(\n\u001b[0;32m    276\u001b[0m             messages[m],\n\u001b[0;32m    277\u001b[0m             versions[m],\n\u001b[0;32m    278\u001b[0m             version_warnings[m],\n\u001b[0;32m    279\u001b[0m             stacklevel\u001b[38;5;241m=\u001b[39m\u001b[38;5;241m3\u001b[39m,\n\u001b[0;32m    280\u001b[0m         )\n\u001b[1;32m--> 281\u001b[0m \u001b[38;5;28;01mreturn\u001b[39;00m \u001b[43mfn\u001b[49m\u001b[43m(\u001b[49m\u001b[38;5;241;43m*\u001b[39;49m\u001b[43margs\u001b[49m\u001b[43m,\u001b[49m\u001b[43m \u001b[49m\u001b[38;5;241;43m*\u001b[39;49m\u001b[38;5;241;43m*\u001b[39;49m\u001b[43mkwargs\u001b[49m\u001b[43m)\u001b[49m\n",
      "File \u001b[1;32md:\\U\\FIFTH SEMESTER\\ETL\\workshop-001\\venv\\Lib\\site-packages\\sqlalchemy\\engine\\create.py:549\u001b[0m, in \u001b[0;36mcreate_engine\u001b[1;34m(url, **kwargs)\u001b[0m\n\u001b[0;32m    546\u001b[0m kwargs\u001b[38;5;241m.\u001b[39mpop(\u001b[38;5;124m\"\u001b[39m\u001b[38;5;124mempty_in_strategy\u001b[39m\u001b[38;5;124m\"\u001b[39m, \u001b[38;5;28;01mNone\u001b[39;00m)\n\u001b[0;32m    548\u001b[0m \u001b[38;5;66;03m# create url.URL object\u001b[39;00m\n\u001b[1;32m--> 549\u001b[0m u \u001b[38;5;241m=\u001b[39m \u001b[43m_url\u001b[49m\u001b[38;5;241;43m.\u001b[39;49m\u001b[43mmake_url\u001b[49m\u001b[43m(\u001b[49m\u001b[43murl\u001b[49m\u001b[43m)\u001b[49m\n\u001b[0;32m    551\u001b[0m u, plugins, kwargs \u001b[38;5;241m=\u001b[39m u\u001b[38;5;241m.\u001b[39m_instantiate_plugins(kwargs)\n\u001b[0;32m    553\u001b[0m entrypoint \u001b[38;5;241m=\u001b[39m u\u001b[38;5;241m.\u001b[39m_get_entrypoint()\n",
      "File \u001b[1;32md:\\U\\FIFTH SEMESTER\\ETL\\workshop-001\\venv\\Lib\\site-packages\\sqlalchemy\\engine\\url.py:856\u001b[0m, in \u001b[0;36mmake_url\u001b[1;34m(name_or_url)\u001b[0m\n\u001b[0;32m    840\u001b[0m \u001b[38;5;250m\u001b[39m\u001b[38;5;124;03m\"\"\"Given a string, produce a new URL instance.\u001b[39;00m\n\u001b[0;32m    841\u001b[0m \n\u001b[0;32m    842\u001b[0m \u001b[38;5;124;03mThe format of the URL generally follows `RFC-1738\u001b[39;00m\n\u001b[1;32m   (...)\u001b[0m\n\u001b[0;32m    852\u001b[0m \n\u001b[0;32m    853\u001b[0m \u001b[38;5;124;03m\"\"\"\u001b[39;00m\n\u001b[0;32m    855\u001b[0m \u001b[38;5;28;01mif\u001b[39;00m \u001b[38;5;28misinstance\u001b[39m(name_or_url, \u001b[38;5;28mstr\u001b[39m):\n\u001b[1;32m--> 856\u001b[0m     \u001b[38;5;28;01mreturn\u001b[39;00m \u001b[43m_parse_url\u001b[49m\u001b[43m(\u001b[49m\u001b[43mname_or_url\u001b[49m\u001b[43m)\u001b[49m\n\u001b[0;32m    857\u001b[0m \u001b[38;5;28;01melif\u001b[39;00m \u001b[38;5;129;01mnot\u001b[39;00m \u001b[38;5;28misinstance\u001b[39m(name_or_url, URL) \u001b[38;5;129;01mand\u001b[39;00m \u001b[38;5;129;01mnot\u001b[39;00m \u001b[38;5;28mhasattr\u001b[39m(\n\u001b[0;32m    858\u001b[0m     name_or_url, \u001b[38;5;124m\"\u001b[39m\u001b[38;5;124m_sqla_is_testing_if_this_is_a_mock_object\u001b[39m\u001b[38;5;124m\"\u001b[39m\n\u001b[0;32m    859\u001b[0m ):\n\u001b[0;32m    860\u001b[0m     \u001b[38;5;28;01mraise\u001b[39;00m exc\u001b[38;5;241m.\u001b[39mArgumentError(\n\u001b[0;32m    861\u001b[0m         \u001b[38;5;124mf\u001b[39m\u001b[38;5;124m\"\u001b[39m\u001b[38;5;124mExpected string or URL object, got \u001b[39m\u001b[38;5;132;01m{\u001b[39;00mname_or_url\u001b[38;5;132;01m!r}\u001b[39;00m\u001b[38;5;124m\"\u001b[39m\n\u001b[0;32m    862\u001b[0m     )\n",
      "File \u001b[1;32md:\\U\\FIFTH SEMESTER\\ETL\\workshop-001\\venv\\Lib\\site-packages\\sqlalchemy\\engine\\url.py:917\u001b[0m, in \u001b[0;36m_parse_url\u001b[1;34m(name)\u001b[0m\n\u001b[0;32m    914\u001b[0m     name \u001b[38;5;241m=\u001b[39m components\u001b[38;5;241m.\u001b[39mpop(\u001b[38;5;124m\"\u001b[39m\u001b[38;5;124mname\u001b[39m\u001b[38;5;124m\"\u001b[39m)\n\u001b[0;32m    916\u001b[0m     \u001b[38;5;28;01mif\u001b[39;00m components[\u001b[38;5;124m\"\u001b[39m\u001b[38;5;124mport\u001b[39m\u001b[38;5;124m\"\u001b[39m]:\n\u001b[1;32m--> 917\u001b[0m         components[\u001b[38;5;124m\"\u001b[39m\u001b[38;5;124mport\u001b[39m\u001b[38;5;124m\"\u001b[39m] \u001b[38;5;241m=\u001b[39m \u001b[38;5;28;43mint\u001b[39;49m\u001b[43m(\u001b[49m\u001b[43mcomponents\u001b[49m\u001b[43m[\u001b[49m\u001b[38;5;124;43m\"\u001b[39;49m\u001b[38;5;124;43mport\u001b[39;49m\u001b[38;5;124;43m\"\u001b[39;49m\u001b[43m]\u001b[49m\u001b[43m)\u001b[49m\n\u001b[0;32m    919\u001b[0m     \u001b[38;5;28;01mreturn\u001b[39;00m URL\u001b[38;5;241m.\u001b[39mcreate(name, \u001b[38;5;241m*\u001b[39m\u001b[38;5;241m*\u001b[39mcomponents)  \u001b[38;5;66;03m# type: ignore\u001b[39;00m\n\u001b[0;32m    921\u001b[0m \u001b[38;5;28;01melse\u001b[39;00m:\n",
      "\u001b[1;31mValueError\u001b[0m: invalid literal for int() with base 10: '# PostgreSQL port, e.g. 5432'"
     ]
    }
   ],
   "source": [
    "engine = creating_engine()"
   ]
  },
  {
   "cell_type": "code",
   "execution_count": null,
   "metadata": {},
   "outputs": [],
   "source": [
    "df.to_sql('candidates_raw', engine, if_exists='replace', index=False)"
   ]
  }
 ],
 "metadata": {
  "kernelspec": {
   "display_name": "venv",
   "language": "python",
   "name": "python3"
  },
  "language_info": {
   "codemirror_mode": {
    "name": "ipython",
    "version": 3
   },
   "file_extension": ".py",
   "mimetype": "text/x-python",
   "name": "python",
   "nbconvert_exporter": "python",
   "pygments_lexer": "ipython3",
   "version": "3.13.1"
  }
 },
 "nbformat": 4,
 "nbformat_minor": 2
}
