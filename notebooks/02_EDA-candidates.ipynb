{
 "cells": [
  {
   "cell_type": "markdown",
   "metadata": {},
   "source": [
    "## **WORKSHOP 001 - NOTEBOOK #2: Exploratory Data Analysis (EDA)**\n",
    "\n",
    "This notebook focuses on conducting **Exploratory Data Analysis (EDA)** on the candidates' dataset. EDA is a fundamental step in the data analysis process, as it allows us to understand the structure and characteristics of the data. By examining the dataset, we can identify patterns, relationships, and key insights that inform further analysis and decision-making.\n",
    "\n",
    "In this notebook, we will explore the dataset using a range of statistical and visual techniques. We will assess the distribution of variables and investigate correlations between them. Through this process, we aim to develop a thorough understanding of the dataset and extract valuable insights.\n",
    "\n",
    "---"
   ]
  },
  {
   "cell_type": "markdown",
   "metadata": {},
   "source": [
    "### **Setting Environment**"
   ]
  },
  {
   "cell_type": "code",
   "execution_count": 1,
   "metadata": {},
   "outputs": [
    {
     "name": "stdout",
     "output_type": "stream",
     "text": [
      "d:\\U\\FIFTH SEMESTER\\ETL\\workshop-001\\notebooks\n",
      "d:\\U\\FIFTH SEMESTER\\ETL\\workshop-001\n"
     ]
    }
   ],
   "source": [
    "import os \n",
    "print(os.getcwd())\n",
    "\n",
    "try:\n",
    "    os.chdir(\"../../workshop-001\")\n",
    "\n",
    "except FileNotFoundError:\n",
    "    print(\"\"\"\n",
    "        FileNotFoundError - The directory may not exist or you might not be in the specified path.\n",
    "        If this has already worked, do not run this block again, as the current directory is already set to workshop-001.\n",
    "        \"\"\")\n",
    "    \n",
    "print(os.getcwd())"
   ]
  },
  {
   "cell_type": "markdown",
   "metadata": {},
   "source": [
    "## **Load Data**"
   ]
  },
  {
   "cell_type": "markdown",
   "metadata": {},
   "source": [
    "### **Import dependencies**"
   ]
  },
  {
   "cell_type": "markdown",
   "metadata": {},
   "source": [
    "We will use Pandas to analyse the data within the DataFrame, while Matplotlib and Seaborn will be employed to generate graphs that illustrate the insights from the database."
   ]
  },
  {
   "cell_type": "code",
   "execution_count": 2,
   "metadata": {},
   "outputs": [],
   "source": [
    "import pandas as pd\n",
    "import matplotlib.pyplot as plt\n",
    "import seaborn as sns"
   ]
  },
  {
   "cell_type": "code",
   "execution_count": 3,
   "metadata": {},
   "outputs": [],
   "source": [
    "plt.style.use('ggplot')"
   ]
  },
  {
   "cell_type": "code",
   "execution_count": 4,
   "metadata": {},
   "outputs": [],
   "source": [
    "from functions.db_connection.connection import creating_engine"
   ]
  },
  {
   "cell_type": "markdown",
   "metadata": {},
   "source": [
    "### **Create engine**"
   ]
  },
  {
   "cell_type": "markdown",
   "metadata": {},
   "source": [
    "The connection process has been assigned to a Python script called _connection.py_, where the function _creating_engine_ is responsible for setting up the connection to a PostgreSQL database using SQLAlchemy."
   ]
  },
  {
   "cell_type": "code",
   "execution_count": 6,
   "metadata": {},
   "outputs": [],
   "source": [
    "engine = creating_engine()"
   ]
  },
  {
   "cell_type": "markdown",
   "metadata": {},
   "source": [
    "### **Load Database**"
   ]
  },
  {
   "cell_type": "markdown",
   "metadata": {},
   "source": [
    "We retrieve the dataset from a table in a PostgreSQL database connected using the SQLAlchemy engine."
   ]
  },
  {
   "cell_type": "code",
   "execution_count": 7,
   "metadata": {},
   "outputs": [
    {
     "data": {
      "text/html": [
       "<div>\n",
       "<style scoped>\n",
       "    .dataframe tbody tr th:only-of-type {\n",
       "        vertical-align: middle;\n",
       "    }\n",
       "\n",
       "    .dataframe tbody tr th {\n",
       "        vertical-align: top;\n",
       "    }\n",
       "\n",
       "    .dataframe thead th {\n",
       "        text-align: right;\n",
       "    }\n",
       "</style>\n",
       "<table border=\"1\" class=\"dataframe\">\n",
       "  <thead>\n",
       "    <tr style=\"text-align: right;\">\n",
       "      <th></th>\n",
       "      <th>First Name</th>\n",
       "      <th>Last Name</th>\n",
       "      <th>Email</th>\n",
       "      <th>Application Date</th>\n",
       "      <th>Country</th>\n",
       "      <th>YOE</th>\n",
       "      <th>Seniority</th>\n",
       "      <th>Technology</th>\n",
       "      <th>Code Challenge Score</th>\n",
       "      <th>Technical Interview Score</th>\n",
       "    </tr>\n",
       "  </thead>\n",
       "  <tbody>\n",
       "    <tr>\n",
       "      <th>0</th>\n",
       "      <td>Bernadette</td>\n",
       "      <td>Langworth</td>\n",
       "      <td>leonard91@yahoo.com</td>\n",
       "      <td>2021-02-26</td>\n",
       "      <td>Norway</td>\n",
       "      <td>2</td>\n",
       "      <td>Intern</td>\n",
       "      <td>Data Engineer</td>\n",
       "      <td>3</td>\n",
       "      <td>3</td>\n",
       "    </tr>\n",
       "    <tr>\n",
       "      <th>1</th>\n",
       "      <td>Camryn</td>\n",
       "      <td>Reynolds</td>\n",
       "      <td>zelda56@hotmail.com</td>\n",
       "      <td>2021-09-09</td>\n",
       "      <td>Panama</td>\n",
       "      <td>10</td>\n",
       "      <td>Intern</td>\n",
       "      <td>Data Engineer</td>\n",
       "      <td>2</td>\n",
       "      <td>10</td>\n",
       "    </tr>\n",
       "    <tr>\n",
       "      <th>2</th>\n",
       "      <td>Larue</td>\n",
       "      <td>Spinka</td>\n",
       "      <td>okey_schultz41@gmail.com</td>\n",
       "      <td>2020-04-14</td>\n",
       "      <td>Belarus</td>\n",
       "      <td>4</td>\n",
       "      <td>Mid-Level</td>\n",
       "      <td>Client Success</td>\n",
       "      <td>10</td>\n",
       "      <td>9</td>\n",
       "    </tr>\n",
       "    <tr>\n",
       "      <th>3</th>\n",
       "      <td>Arch</td>\n",
       "      <td>Spinka</td>\n",
       "      <td>elvera_kulas@yahoo.com</td>\n",
       "      <td>2020-10-01</td>\n",
       "      <td>Eritrea</td>\n",
       "      <td>25</td>\n",
       "      <td>Trainee</td>\n",
       "      <td>QA Manual</td>\n",
       "      <td>7</td>\n",
       "      <td>1</td>\n",
       "    </tr>\n",
       "    <tr>\n",
       "      <th>4</th>\n",
       "      <td>Larue</td>\n",
       "      <td>Altenwerth</td>\n",
       "      <td>minnie.gislason@gmail.com</td>\n",
       "      <td>2020-05-20</td>\n",
       "      <td>Myanmar</td>\n",
       "      <td>13</td>\n",
       "      <td>Mid-Level</td>\n",
       "      <td>Social Media Community Management</td>\n",
       "      <td>9</td>\n",
       "      <td>7</td>\n",
       "    </tr>\n",
       "    <tr>\n",
       "      <th>...</th>\n",
       "      <td>...</td>\n",
       "      <td>...</td>\n",
       "      <td>...</td>\n",
       "      <td>...</td>\n",
       "      <td>...</td>\n",
       "      <td>...</td>\n",
       "      <td>...</td>\n",
       "      <td>...</td>\n",
       "      <td>...</td>\n",
       "      <td>...</td>\n",
       "    </tr>\n",
       "    <tr>\n",
       "      <th>49995</th>\n",
       "      <td>Bethany</td>\n",
       "      <td>Shields</td>\n",
       "      <td>rocky_mitchell@hotmail.com</td>\n",
       "      <td>2022-01-09</td>\n",
       "      <td>Dominican Republic</td>\n",
       "      <td>27</td>\n",
       "      <td>Trainee</td>\n",
       "      <td>Security</td>\n",
       "      <td>2</td>\n",
       "      <td>1</td>\n",
       "    </tr>\n",
       "    <tr>\n",
       "      <th>49996</th>\n",
       "      <td>Era</td>\n",
       "      <td>Swaniawski</td>\n",
       "      <td>dolores.roob@hotmail.com</td>\n",
       "      <td>2020-06-02</td>\n",
       "      <td>Morocco</td>\n",
       "      <td>21</td>\n",
       "      <td>Lead</td>\n",
       "      <td>Game Development</td>\n",
       "      <td>1</td>\n",
       "      <td>2</td>\n",
       "    </tr>\n",
       "    <tr>\n",
       "      <th>49997</th>\n",
       "      <td>Martin</td>\n",
       "      <td>Lakin</td>\n",
       "      <td>savanah.stracke@gmail.com</td>\n",
       "      <td>2018-12-15</td>\n",
       "      <td>Uganda</td>\n",
       "      <td>20</td>\n",
       "      <td>Trainee</td>\n",
       "      <td>System Administration</td>\n",
       "      <td>6</td>\n",
       "      <td>1</td>\n",
       "    </tr>\n",
       "    <tr>\n",
       "      <th>49998</th>\n",
       "      <td>Aliya</td>\n",
       "      <td>Abernathy</td>\n",
       "      <td>vivienne.fritsch@yahoo.com</td>\n",
       "      <td>2020-05-30</td>\n",
       "      <td>Czech Republic</td>\n",
       "      <td>20</td>\n",
       "      <td>Senior</td>\n",
       "      <td>Database Administration</td>\n",
       "      <td>0</td>\n",
       "      <td>0</td>\n",
       "    </tr>\n",
       "    <tr>\n",
       "      <th>49999</th>\n",
       "      <td>Coleman</td>\n",
       "      <td>Wisozk</td>\n",
       "      <td>abigayle.crooks@yahoo.com</td>\n",
       "      <td>2022-06-13</td>\n",
       "      <td>Palau</td>\n",
       "      <td>15</td>\n",
       "      <td>Intern</td>\n",
       "      <td>Mulesoft</td>\n",
       "      <td>3</td>\n",
       "      <td>1</td>\n",
       "    </tr>\n",
       "  </tbody>\n",
       "</table>\n",
       "<p>50000 rows × 10 columns</p>\n",
       "</div>"
      ],
      "text/plain": [
       "       First Name   Last Name                       Email Application Date  \\\n",
       "0      Bernadette   Langworth         leonard91@yahoo.com       2021-02-26   \n",
       "1          Camryn    Reynolds         zelda56@hotmail.com       2021-09-09   \n",
       "2           Larue      Spinka    okey_schultz41@gmail.com       2020-04-14   \n",
       "3            Arch      Spinka      elvera_kulas@yahoo.com       2020-10-01   \n",
       "4           Larue  Altenwerth   minnie.gislason@gmail.com       2020-05-20   \n",
       "...           ...         ...                         ...              ...   \n",
       "49995     Bethany     Shields  rocky_mitchell@hotmail.com       2022-01-09   \n",
       "49996         Era  Swaniawski    dolores.roob@hotmail.com       2020-06-02   \n",
       "49997      Martin       Lakin   savanah.stracke@gmail.com       2018-12-15   \n",
       "49998       Aliya   Abernathy  vivienne.fritsch@yahoo.com       2020-05-30   \n",
       "49999     Coleman      Wisozk   abigayle.crooks@yahoo.com       2022-06-13   \n",
       "\n",
       "                  Country  YOE  Seniority                         Technology  \\\n",
       "0                  Norway    2     Intern                      Data Engineer   \n",
       "1                  Panama   10     Intern                      Data Engineer   \n",
       "2                 Belarus    4  Mid-Level                     Client Success   \n",
       "3                 Eritrea   25    Trainee                          QA Manual   \n",
       "4                 Myanmar   13  Mid-Level  Social Media Community Management   \n",
       "...                   ...  ...        ...                                ...   \n",
       "49995  Dominican Republic   27    Trainee                           Security   \n",
       "49996             Morocco   21       Lead                   Game Development   \n",
       "49997              Uganda   20    Trainee              System Administration   \n",
       "49998      Czech Republic   20     Senior            Database Administration   \n",
       "49999               Palau   15     Intern                           Mulesoft   \n",
       "\n",
       "       Code Challenge Score  Technical Interview Score  \n",
       "0                         3                          3  \n",
       "1                         2                         10  \n",
       "2                        10                          9  \n",
       "3                         7                          1  \n",
       "4                         9                          7  \n",
       "...                     ...                        ...  \n",
       "49995                     2                          1  \n",
       "49996                     1                          2  \n",
       "49997                     6                          1  \n",
       "49998                     0                          0  \n",
       "49999                     3                          1  \n",
       "\n",
       "[50000 rows x 10 columns]"
      ]
     },
     "execution_count": 7,
     "metadata": {},
     "output_type": "execute_result"
    }
   ],
   "source": [
    "df = pd.read_sql_table(\"candidates_raw\", engine, parse_dates=[\"Application Date\"])\n",
    "df"
   ]
  },
  {
   "cell_type": "markdown",
   "metadata": {},
   "source": [
    "### **Data Preprocessing**"
   ]
  },
  {
   "cell_type": "markdown",
   "metadata": {},
   "source": [
    "The column names have been converted to [snake_case](https://www.theserverside.com/definition/Snake-case), which simplifies using df.query() and makes the process easier."
   ]
  },
  {
   "cell_type": "code",
   "execution_count": 9,
   "metadata": {},
   "outputs": [],
   "source": [
    "renamed_columns = {\n",
    "    'First Name': 'first_name',\n",
    "    'Last Name': 'last_name',\n",
    "    'Email': 'email',\n",
    "    'Application Date': 'application_date',\n",
    "    'Country': 'country',\n",
    "    'YOE': 'yoe',\n",
    "    'Seniority': 'seniority',\n",
    "    'Technology': 'technology',\n",
    "    'Code Challenge Score': 'code_challenge_score',\n",
    "    'Technical Interview Score': 'technical_interview_score'\n",
    "}\n",
    "\n",
    "df = df.rename(columns=renamed_columns)"
   ]
  },
  {
   "cell_type": "markdown",
   "metadata": {},
   "source": [
    "### **Understanding the Dataset**"
   ]
  },
  {
   "cell_type": "markdown",
   "metadata": {},
   "source": [
    "#### **Data column details**"
   ]
  },
  {
   "cell_type": "markdown",
   "metadata": {},
   "source": [
    "The output of `df.info()` provides a summary of our dataset. \n",
    "\n",
    "It shows that the DataFrame contains 50,000 entries and 10 columns, with each column having *no missing values*. \n",
    "\n",
    "The data types are appropriately assigned: six columns are treated as objects, one is a datetime, and three are integers. "
   ]
  },
  {
   "cell_type": "code",
   "execution_count": 10,
   "metadata": {},
   "outputs": [
    {
     "name": "stdout",
     "output_type": "stream",
     "text": [
      "<class 'pandas.core.frame.DataFrame'>\n",
      "RangeIndex: 50000 entries, 0 to 49999\n",
      "Data columns (total 10 columns):\n",
      " #   Column                     Non-Null Count  Dtype         \n",
      "---  ------                     --------------  -----         \n",
      " 0   first_name                 50000 non-null  object        \n",
      " 1   last_name                  50000 non-null  object        \n",
      " 2   email                      50000 non-null  object        \n",
      " 3   application_date           50000 non-null  datetime64[ns]\n",
      " 4   country                    50000 non-null  object        \n",
      " 5   yoe                        50000 non-null  int64         \n",
      " 6   seniority                  50000 non-null  object        \n",
      " 7   technology                 50000 non-null  object        \n",
      " 8   code_challenge_score       50000 non-null  int64         \n",
      " 9   technical_interview_score  50000 non-null  int64         \n",
      "dtypes: datetime64[ns](1), int64(3), object(6)\n",
      "memory usage: 3.8+ MB\n"
     ]
    }
   ],
   "source": [
    "df.info()"
   ]
  },
  {
   "cell_type": "markdown",
   "metadata": {},
   "source": [
    "#### **Examining the dataset for duplicate rows.**"
   ]
  },
  {
   "cell_type": "code",
   "execution_count": 12,
   "metadata": {},
   "outputs": [
    {
     "data": {
      "text/plain": [
       "np.int64(0)"
      ]
     },
     "execution_count": 12,
     "metadata": {},
     "output_type": "execute_result"
    }
   ],
   "source": [
    "df.duplicated().sum()"
   ]
  },
  {
   "cell_type": "markdown",
   "metadata": {},
   "source": [
    "The result shows that there are *no duplicate rows* in the dataset. This means every row in the dataset is unique."
   ]
  },
  {
   "cell_type": "markdown",
   "metadata": {},
   "source": [
    "#### **Examining the dataset for null values.**"
   ]
  },
  {
   "cell_type": "code",
   "execution_count": 14,
   "metadata": {},
   "outputs": [
    {
     "data": {
      "text/plain": [
       "first_name                   0\n",
       "last_name                    0\n",
       "email                        0\n",
       "application_date             0\n",
       "country                      0\n",
       "yoe                          0\n",
       "seniority                    0\n",
       "technology                   0\n",
       "code_challenge_score         0\n",
       "technical_interview_score    0\n",
       "dtype: int64"
      ]
     },
     "execution_count": 14,
     "metadata": {},
     "output_type": "execute_result"
    }
   ],
   "source": [
    "df.isnull().sum()"
   ]
  },
  {
   "cell_type": "markdown",
   "metadata": {},
   "source": [
    "This result shows that every column has 0 missing values, indicating that there is no missing data in any of them."
   ]
  },
  {
   "cell_type": "markdown",
   "metadata": {},
   "source": [
    "#### **Counting unique values in each column**"
   ]
  },
  {
   "cell_type": "code",
   "execution_count": 16,
   "metadata": {},
   "outputs": [
    {
     "data": {
      "text/plain": [
       "first_name                    3007\n",
       "last_name                      474\n",
       "email                        49833\n",
       "application_date              1646\n",
       "country                        244\n",
       "yoe                             31\n",
       "seniority                        7\n",
       "technology                      24\n",
       "code_challenge_score            11\n",
       "technical_interview_score       11\n",
       "dtype: int64"
      ]
     },
     "execution_count": 16,
     "metadata": {},
     "output_type": "execute_result"
    }
   ],
   "source": [
    "df.nunique()"
   ]
  },
  {
   "cell_type": "markdown",
   "metadata": {},
   "source": [
    "This output displays the number of unique values in each column for the dataset containing 50,000 entries. \n",
    "\n",
    "For example, almost every email is unique, while columns such as seniority and scores show a limited range of distinct values. \n",
    "\n",
    "Considering the overall number of records, it is unusual to observe a number of repeated emails; indeed, the difference between the total records and the email count suggests that _approximately 167 individuals may have reapplied_."
   ]
  },
  {
   "cell_type": "markdown",
   "metadata": {},
   "source": [
    "**Analising those duplicated records**"
   ]
  },
  {
   "cell_type": "code",
   "execution_count": 17,
   "metadata": {},
   "outputs": [
    {
     "data": {
      "text/plain": [
       "email\n",
       "marianne31@yahoo.com        3\n",
       "fern70@gmail.com            3\n",
       "sandra83@gmail.com          2\n",
       "dewayne50@gmail.com         2\n",
       "matilda17@gmail.com         2\n",
       "                           ..\n",
       "marjolaine91@hotmail.com    2\n",
       "jazmin54@gmail.com          2\n",
       "reyna2@hotmail.com          2\n",
       "kasandra68@hotmail.com      2\n",
       "easter75@gmail.com          2\n",
       "Name: count, Length: 165, dtype: int64"
      ]
     },
     "execution_count": 17,
     "metadata": {},
     "output_type": "execute_result"
    }
   ],
   "source": [
    "duplicated_emails = df.loc[df.duplicated(subset=['email'], keep=False)]\n",
    "duplicated_emails[\"email\"].value_counts()"
   ]
  },
  {
   "cell_type": "markdown",
   "metadata": {},
   "source": [
    "This result shows that there are 165 repeated email addresses in the dataset, with two addresses appearing three times, indicating that some individuals may have reapplied."
   ]
  },
  {
   "cell_type": "markdown",
   "metadata": {},
   "source": [
    "#### **Data Analysis**"
   ]
  },
  {
   "cell_type": "code",
   "execution_count": 18,
   "metadata": {},
   "outputs": [
    {
     "data": {
      "text/html": [
       "<div>\n",
       "<style scoped>\n",
       "    .dataframe tbody tr th:only-of-type {\n",
       "        vertical-align: middle;\n",
       "    }\n",
       "\n",
       "    .dataframe tbody tr th {\n",
       "        vertical-align: top;\n",
       "    }\n",
       "\n",
       "    .dataframe thead th {\n",
       "        text-align: right;\n",
       "    }\n",
       "</style>\n",
       "<table border=\"1\" class=\"dataframe\">\n",
       "  <thead>\n",
       "    <tr style=\"text-align: right;\">\n",
       "      <th></th>\n",
       "      <th>application_date</th>\n",
       "      <th>yoe</th>\n",
       "      <th>code_challenge_score</th>\n",
       "      <th>technical_interview_score</th>\n",
       "    </tr>\n",
       "  </thead>\n",
       "  <tbody>\n",
       "    <tr>\n",
       "      <th>count</th>\n",
       "      <td>50000</td>\n",
       "      <td>50000.000000</td>\n",
       "      <td>50000.000000</td>\n",
       "      <td>50000.000000</td>\n",
       "    </tr>\n",
       "    <tr>\n",
       "      <th>mean</th>\n",
       "      <td>2020-04-03 23:04:14.592000</td>\n",
       "      <td>15.286980</td>\n",
       "      <td>4.996400</td>\n",
       "      <td>5.003880</td>\n",
       "    </tr>\n",
       "    <tr>\n",
       "      <th>min</th>\n",
       "      <td>2018-01-01 00:00:00</td>\n",
       "      <td>0.000000</td>\n",
       "      <td>0.000000</td>\n",
       "      <td>0.000000</td>\n",
       "    </tr>\n",
       "    <tr>\n",
       "      <th>25%</th>\n",
       "      <td>2019-02-17 00:00:00</td>\n",
       "      <td>8.000000</td>\n",
       "      <td>2.000000</td>\n",
       "      <td>2.000000</td>\n",
       "    </tr>\n",
       "    <tr>\n",
       "      <th>50%</th>\n",
       "      <td>2020-04-06 00:00:00</td>\n",
       "      <td>15.000000</td>\n",
       "      <td>5.000000</td>\n",
       "      <td>5.000000</td>\n",
       "    </tr>\n",
       "    <tr>\n",
       "      <th>75%</th>\n",
       "      <td>2021-05-21 00:00:00</td>\n",
       "      <td>23.000000</td>\n",
       "      <td>8.000000</td>\n",
       "      <td>8.000000</td>\n",
       "    </tr>\n",
       "    <tr>\n",
       "      <th>max</th>\n",
       "      <td>2022-07-04 00:00:00</td>\n",
       "      <td>30.000000</td>\n",
       "      <td>10.000000</td>\n",
       "      <td>10.000000</td>\n",
       "    </tr>\n",
       "    <tr>\n",
       "      <th>std</th>\n",
       "      <td>NaN</td>\n",
       "      <td>8.830652</td>\n",
       "      <td>3.166896</td>\n",
       "      <td>3.165082</td>\n",
       "    </tr>\n",
       "  </tbody>\n",
       "</table>\n",
       "</div>"
      ],
      "text/plain": [
       "                 application_date           yoe  code_challenge_score  \\\n",
       "count                       50000  50000.000000          50000.000000   \n",
       "mean   2020-04-03 23:04:14.592000     15.286980              4.996400   \n",
       "min           2018-01-01 00:00:00      0.000000              0.000000   \n",
       "25%           2019-02-17 00:00:00      8.000000              2.000000   \n",
       "50%           2020-04-06 00:00:00     15.000000              5.000000   \n",
       "75%           2021-05-21 00:00:00     23.000000              8.000000   \n",
       "max           2022-07-04 00:00:00     30.000000             10.000000   \n",
       "std                           NaN      8.830652              3.166896   \n",
       "\n",
       "       technical_interview_score  \n",
       "count               50000.000000  \n",
       "mean                    5.003880  \n",
       "min                     0.000000  \n",
       "25%                     2.000000  \n",
       "50%                     5.000000  \n",
       "75%                     8.000000  \n",
       "max                    10.000000  \n",
       "std                     3.165082  "
      ]
     },
     "execution_count": 18,
     "metadata": {},
     "output_type": "execute_result"
    }
   ],
   "source": [
    "df.describe()"
   ]
  },
  {
   "cell_type": "markdown",
   "metadata": {},
   "source": [
    "The dataset covers application dates from 1 January 2018 to 4 July 2022, which explains the limited data for 2022. \n",
    "\n",
    "The average years of experience is 15.29, although the high standard deviation indicates significant variability among candidates. \n",
    "\n",
    "Additionally, both the code challenge and technical interview scores average around 5, suggesting that fewer than half of the applicants are likely to be accepted."
   ]
  },
  {
   "cell_type": "markdown",
   "metadata": {},
   "source": [
    "#### **Analising Code Challenge and Technical Interview Scores**"
   ]
  },
  {
   "cell_type": "code",
   "execution_count": 21,
   "metadata": {},
   "outputs": [
    {
     "data": {
      "text/html": [
       "<div>\n",
       "<style scoped>\n",
       "    .dataframe tbody tr th:only-of-type {\n",
       "        vertical-align: middle;\n",
       "    }\n",
       "\n",
       "    .dataframe tbody tr th {\n",
       "        vertical-align: top;\n",
       "    }\n",
       "\n",
       "    .dataframe thead th {\n",
       "        text-align: right;\n",
       "    }\n",
       "</style>\n",
       "<table border=\"1\" class=\"dataframe\">\n",
       "  <thead>\n",
       "    <tr style=\"text-align: right;\">\n",
       "      <th></th>\n",
       "      <th>code_challenge_score</th>\n",
       "      <th>technical_interview_score</th>\n",
       "    </tr>\n",
       "    <tr>\n",
       "      <th>score</th>\n",
       "      <th></th>\n",
       "      <th></th>\n",
       "    </tr>\n",
       "  </thead>\n",
       "  <tbody>\n",
       "    <tr>\n",
       "      <th>0</th>\n",
       "      <td>4502</td>\n",
       "      <td>4539</td>\n",
       "    </tr>\n",
       "    <tr>\n",
       "      <th>1</th>\n",
       "      <td>4590</td>\n",
       "      <td>4588</td>\n",
       "    </tr>\n",
       "    <tr>\n",
       "      <th>2</th>\n",
       "      <td>4579</td>\n",
       "      <td>4500</td>\n",
       "    </tr>\n",
       "    <tr>\n",
       "      <th>3</th>\n",
       "      <td>4678</td>\n",
       "      <td>4528</td>\n",
       "    </tr>\n",
       "    <tr>\n",
       "      <th>4</th>\n",
       "      <td>4521</td>\n",
       "      <td>4578</td>\n",
       "    </tr>\n",
       "    <tr>\n",
       "      <th>5</th>\n",
       "      <td>4479</td>\n",
       "      <td>4527</td>\n",
       "    </tr>\n",
       "    <tr>\n",
       "      <th>6</th>\n",
       "      <td>4419</td>\n",
       "      <td>4471</td>\n",
       "    </tr>\n",
       "    <tr>\n",
       "      <th>7</th>\n",
       "      <td>4506</td>\n",
       "      <td>4578</td>\n",
       "    </tr>\n",
       "    <tr>\n",
       "      <th>8</th>\n",
       "      <td>4619</td>\n",
       "      <td>4555</td>\n",
       "    </tr>\n",
       "    <tr>\n",
       "      <th>9</th>\n",
       "      <td>4519</td>\n",
       "      <td>4597</td>\n",
       "    </tr>\n",
       "    <tr>\n",
       "      <th>10</th>\n",
       "      <td>4588</td>\n",
       "      <td>4539</td>\n",
       "    </tr>\n",
       "  </tbody>\n",
       "</table>\n",
       "</div>"
      ],
      "text/plain": [
       "       code_challenge_score  technical_interview_score\n",
       "score                                                 \n",
       "0                      4502                       4539\n",
       "1                      4590                       4588\n",
       "2                      4579                       4500\n",
       "3                      4678                       4528\n",
       "4                      4521                       4578\n",
       "5                      4479                       4527\n",
       "6                      4419                       4471\n",
       "7                      4506                       4578\n",
       "8                      4619                       4555\n",
       "9                      4519                       4597\n",
       "10                     4588                       4539"
      ]
     },
     "execution_count": 21,
     "metadata": {},
     "output_type": "execute_result"
    }
   ],
   "source": [
    "score_count = (df[['code_challenge_score', 'technical_interview_score']].agg(pd.Series.value_counts)\n",
    "                .sort_index()\n",
    "                .rename_axis('score'))\n",
    "score_count"
   ]
  },
  {
   "cell_type": "code",
   "execution_count": 22,
   "metadata": {},
   "outputs": [
    {
     "name": "stdout",
     "output_type": "stream",
     "text": [
      "Percentage with Code Challenge Score >=7: 36.46%\n",
      "Percentage with Technical Interview Score >=7: 36.54%\n",
      "Percentage meeting both criteria (hired): 13.40%\n"
     ]
    }
   ],
   "source": [
    "total_applications = len(df)\n",
    "\n",
    "code_challenge_percentage = (df['code_challenge_score'] >= 7).mean() * 100\n",
    "\n",
    "technical_interview_percentage = (df['technical_interview_score'] >= 7).mean() * 100\n",
    "\n",
    "hired_percentage = len(df[(df['code_challenge_score'] >= 7) & (df['technical_interview_score'] >= 7)]) / total_applications * 100\n",
    "\n",
    "print(\"Percentage with Code Challenge Score >=7: {:.2f}%\".format(code_challenge_percentage))\n",
    "print(\"Percentage with Technical Interview Score >=7: {:.2f}%\".format(technical_interview_percentage))\n",
    "print(\"Percentage meeting both criteria (hired): {:.2f}%\".format(hired_percentage))\n"
   ]
  },
  {
   "cell_type": "markdown",
   "metadata": {},
   "source": [
    "Based on the results, about 36% of candidates score 7 or above on each test. \n",
    "\n",
    "Given the requirement to score at least 7 on both assessments, roughly 13% of applicants would meet the criteria, indicating a selective hiring process.\n",
    "\n",
    "The similar counts across the score range suggest that the scores are uniformly distributed."
   ]
  }
 ],
 "metadata": {
  "kernelspec": {
   "display_name": "Python 3",
   "language": "python",
   "name": "python3"
  },
  "language_info": {
   "codemirror_mode": {
    "name": "ipython",
    "version": 3
   },
   "file_extension": ".py",
   "mimetype": "text/x-python",
   "name": "python",
   "nbconvert_exporter": "python",
   "pygments_lexer": "ipython3",
   "version": "3.13.1"
  }
 },
 "nbformat": 4,
 "nbformat_minor": 2
}
